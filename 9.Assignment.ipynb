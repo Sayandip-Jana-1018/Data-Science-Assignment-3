{
 "cells": [
  {
   "cell_type": "markdown",
   "id": "5c100c4f-91db-4060-b21a-1647f6439131",
   "metadata": {},
   "source": [
    "Q1. How do you comment code in Python? What are the different types of comments?"
   ]
  },
  {
   "cell_type": "code",
   "execution_count": null,
   "id": "7e28ea9a-2e56-470c-acbc-68a2e11846fc",
   "metadata": {},
   "outputs": [],
   "source": [
    "\"\"\"\n",
    "In Python, comments are used to explain code and make it more readable.\n",
    "Comments are ignored by the interpreter. There are two types of comments in Python:\n",
    "1. Single-line comments: These are created using the # symbol. \n",
    "Everything after the # on that line is considered a comment.\n",
    "\"\"\"\n",
    "\n",
    "# 2. Multi-line comments: These are created using triple quotes ''' or \"\"\".\n",
    "# This style is typically used for docstrings, but can also be used for multi-line comments."
   ]
  },
  {
   "cell_type": "code",
   "execution_count": null,
   "id": "075b75d9-bd16-4010-a29e-746f7608afdd",
   "metadata": {},
   "outputs": [],
   "source": [
    "# 1.\n",
    "x = 10  # Single line comment\n",
    "\n",
    "# 2.\n",
    "\"\"\"\n",
    "This is a multi-line comment\n",
    "or a docstring that explains\n",
    "a block of code or a function.\n",
    "\"\"\""
   ]
  },
  {
   "cell_type": "markdown",
   "id": "f62cfd2e-e571-493f-856a-2ffcde0066d6",
   "metadata": {},
   "source": [
    "Q2. What are variables in Python? How do you declare and assign values to variables?"
   ]
  },
  {
   "cell_type": "code",
   "execution_count": 13,
   "id": "ec3a9916-54a5-4570-9861-170d6b746656",
   "metadata": {},
   "outputs": [],
   "source": [
    "\"\"\"\n",
    "Variables in Python are used to store data that can be used and manipulated throughout a program.\n",
    "Variables do not need to be declared with a specific type and can hold values of any data type.\n",
    "To declare and assign values to variables, simply use the assignment operator =\n",
    "\"\"\"\n",
    "\n",
    "x = 5\n",
    "name = \"PwSkills\"\n",
    "boolean = True"
   ]
  },
  {
   "cell_type": "markdown",
   "id": "7e53845b-5e9a-4fe3-9afd-db053c9f5b2a",
   "metadata": {},
   "source": [
    "Q3. How do you convert one data type to another in Python?"
   ]
  },
  {
   "cell_type": "code",
   "execution_count": 14,
   "id": "794cc85f-5af1-4a16-b634-d4caf6fc0719",
   "metadata": {},
   "outputs": [],
   "source": [
    "\"\"\"\n",
    "In Python, you can convert one data type to another using built-in functions \n",
    "such as int(), float(), str(), and bool(). This process is called type casting.\n",
    "\"\"\"\n",
    "\n",
    "# Convert to integer\n",
    "x = int(\"10\")  # x becomes 10\n",
    "\n",
    "# Convert to float\n",
    "y = float(\"10.5\")  # y becomes 10.5\n",
    "\n",
    "# Convert to string\n",
    "z = str(10)  # z becomes \"10\"\n",
    "\n",
    "# Convert to boolean\n",
    "a = bool(1)  # a becomes True\n"
   ]
  },
  {
   "cell_type": "code",
   "execution_count": 18,
   "id": "20adb0e3-8831-4b39-99d8-f2b1bb225346",
   "metadata": {},
   "outputs": [
    {
     "data": {
      "text/plain": [
       "10"
      ]
     },
     "execution_count": 18,
     "metadata": {},
     "output_type": "execute_result"
    }
   ],
   "source": [
    "x"
   ]
  },
  {
   "cell_type": "code",
   "execution_count": 19,
   "id": "49a8ecad-d80b-4584-8b31-d425ba7b0930",
   "metadata": {},
   "outputs": [
    {
     "data": {
      "text/plain": [
       "10.5"
      ]
     },
     "execution_count": 19,
     "metadata": {},
     "output_type": "execute_result"
    }
   ],
   "source": [
    "y"
   ]
  },
  {
   "cell_type": "code",
   "execution_count": 20,
   "id": "befd7b62-c604-4013-a476-5b7a2bef750e",
   "metadata": {},
   "outputs": [
    {
     "data": {
      "text/plain": [
       "'10'"
      ]
     },
     "execution_count": 20,
     "metadata": {},
     "output_type": "execute_result"
    }
   ],
   "source": [
    "z"
   ]
  },
  {
   "cell_type": "code",
   "execution_count": 21,
   "id": "369060d1-de2d-4e23-bca3-af03ec3171f3",
   "metadata": {},
   "outputs": [
    {
     "data": {
      "text/plain": [
       "True"
      ]
     },
     "execution_count": 21,
     "metadata": {},
     "output_type": "execute_result"
    }
   ],
   "source": [
    "a"
   ]
  },
  {
   "cell_type": "markdown",
   "id": "b20c3e5b-6ab2-4c62-82c1-638bc0bfb7c6",
   "metadata": {},
   "source": [
    "Q4. How do you write and execute a Python script from the command line?"
   ]
  },
  {
   "cell_type": "code",
   "execution_count": null,
   "id": "52e9e952-5082-4d95-a094-de20abf6178e",
   "metadata": {},
   "outputs": [],
   "source": [
    "\"\"\"\n",
    "To write a Python script:\n",
    "\n",
    "1. We create a new file with a .py extension (e.g., script.py).\n",
    "2. We write your Python code in this file.\n",
    "3. To execute a Python script from the command line, we open a terminal or command prompt.\n",
    "4. We navigate to the directory where the script is located.\n",
    "5. At last, we run the script by typing python script.py or python3 script.py.\n",
    "\"\"\""
   ]
  },
  {
   "cell_type": "markdown",
   "id": "6deb7612-255a-499f-af26-c2b847d68046",
   "metadata": {},
   "source": [
    "Q5. Given a list my_list = [1, 2, 3, 4, 5], write the code to slice the list and obtain the sub-list [2, 3]."
   ]
  },
  {
   "cell_type": "code",
   "execution_count": 23,
   "id": "5ae8bdf7-2824-4f51-aafb-b0141e27418f",
   "metadata": {},
   "outputs": [
    {
     "name": "stdout",
     "output_type": "stream",
     "text": [
      "[2, 3]\n"
     ]
    }
   ],
   "source": [
    "my_list = [1, 2, 3, 4, 5]\n",
    "sub_list = my_list[1:3]\n",
    "print(sub_list)"
   ]
  },
  {
   "cell_type": "markdown",
   "id": "f308e022-2aa9-4f3d-b04b-9221833586f6",
   "metadata": {},
   "source": [
    "Q6. What is a complex number in mathematics, and how is it represented in Python?"
   ]
  },
  {
   "cell_type": "code",
   "execution_count": 24,
   "id": "200a8efa-5978-4239-b469-57eb178123d1",
   "metadata": {},
   "outputs": [],
   "source": [
    "\"\"\"\n",
    "A complex number in mathematics is a number of the form a+bi, where a is the real part and \n",
    "b is the imaginary part. In Python, complex numbers are represented using the j suffix \n",
    "for the imaginary part.\n",
    "\"\"\"\n",
    "\n",
    "z1 = 1 + 2j\n",
    "z2 = complex(3, 4)"
   ]
  },
  {
   "cell_type": "code",
   "execution_count": 25,
   "id": "f923820e-25fa-4a44-b2a3-639e3c722174",
   "metadata": {},
   "outputs": [
    {
     "data": {
      "text/plain": [
       "(1+2j)"
      ]
     },
     "execution_count": 25,
     "metadata": {},
     "output_type": "execute_result"
    }
   ],
   "source": [
    "z1"
   ]
  },
  {
   "cell_type": "code",
   "execution_count": 26,
   "id": "840210da-f08e-4b26-8bb1-d369039f44a9",
   "metadata": {},
   "outputs": [
    {
     "data": {
      "text/plain": [
       "(3+4j)"
      ]
     },
     "execution_count": 26,
     "metadata": {},
     "output_type": "execute_result"
    }
   ],
   "source": [
    "z2"
   ]
  },
  {
   "cell_type": "markdown",
   "id": "98f74f8e-859e-4cca-b211-2e5aaecf33b3",
   "metadata": {},
   "source": [
    "Q7. What is the correct way to declare a variable named age and assign the value 25 to it?"
   ]
  },
  {
   "cell_type": "code",
   "execution_count": 27,
   "id": "19798832-7218-43c1-9cba-2b67a38b2f79",
   "metadata": {},
   "outputs": [],
   "source": [
    "age = 25"
   ]
  },
  {
   "cell_type": "code",
   "execution_count": 28,
   "id": "9b6da6b4-1ea8-41b7-aeb9-387525696b63",
   "metadata": {},
   "outputs": [
    {
     "data": {
      "text/plain": [
       "25"
      ]
     },
     "execution_count": 28,
     "metadata": {},
     "output_type": "execute_result"
    }
   ],
   "source": [
    "age"
   ]
  },
  {
   "cell_type": "markdown",
   "id": "5c0c6569-61b9-4455-8bb6-656e5d8ce3c7",
   "metadata": {},
   "source": [
    "Q8. Declare a variable named price and assign the value 9.99 to it. What data type does this variable belong to?"
   ]
  },
  {
   "cell_type": "code",
   "execution_count": 29,
   "id": "23fa66b6-f8ba-43bc-ac1a-f771df104aec",
   "metadata": {},
   "outputs": [],
   "source": [
    "price = 9.99\n",
    "\n",
    "# The variable price belongs to the data type float."
   ]
  },
  {
   "cell_type": "code",
   "execution_count": 31,
   "id": "63abd74e-3c5e-4fea-8c0f-3a2ff3d031d4",
   "metadata": {},
   "outputs": [
    {
     "data": {
      "text/plain": [
       "9.99"
      ]
     },
     "execution_count": 31,
     "metadata": {},
     "output_type": "execute_result"
    }
   ],
   "source": [
    "price"
   ]
  },
  {
   "cell_type": "markdown",
   "id": "4f204758-b628-4704-b1cf-3a70a3f6b48b",
   "metadata": {},
   "source": [
    "Q9. Create a variable named name and assign your full name to it as a string. How would you print the value of this variable?"
   ]
  },
  {
   "cell_type": "code",
   "execution_count": 32,
   "id": "0907baff-1d31-4e01-8d4b-bde75da51af8",
   "metadata": {},
   "outputs": [
    {
     "name": "stdout",
     "output_type": "stream",
     "text": [
      "Sayandip Jana\n"
     ]
    }
   ],
   "source": [
    "name = \"Sayandip Jana\" \n",
    "print(name)"
   ]
  },
  {
   "cell_type": "markdown",
   "id": "08a8e80f-d60d-4efa-9d45-a7fd3fd654b8",
   "metadata": {},
   "source": [
    "Q10. Given the string \"Hello, World!\", extract the substring \"World\"."
   ]
  },
  {
   "cell_type": "code",
   "execution_count": 33,
   "id": "79544c3f-106a-4a79-8e15-967cce297e17",
   "metadata": {},
   "outputs": [
    {
     "name": "stdout",
     "output_type": "stream",
     "text": [
      "World\n"
     ]
    }
   ],
   "source": [
    "string = \"Hello, World!\"\n",
    "substring = string[7:12]\n",
    "print(substring)  "
   ]
  },
  {
   "cell_type": "markdown",
   "id": "bb92cf70-02a2-4643-ac76-ba42d810ac87",
   "metadata": {},
   "source": [
    "Q11. Create a variable named is_student and assign it a boolean value indicating whether you are currently a student or not."
   ]
  },
  {
   "cell_type": "code",
   "execution_count": 34,
   "id": "9b8aaf07-e10f-4d0c-b732-11ed769df779",
   "metadata": {},
   "outputs": [],
   "source": [
    "is_student = True  "
   ]
  }
 ],
 "metadata": {
  "kernelspec": {
   "display_name": "Python 3 (ipykernel)",
   "language": "python",
   "name": "python3"
  },
  "language_info": {
   "codemirror_mode": {
    "name": "ipython",
    "version": 3
   },
   "file_extension": ".py",
   "mimetype": "text/x-python",
   "name": "python",
   "nbconvert_exporter": "python",
   "pygments_lexer": "ipython3",
   "version": "3.10.8"
  }
 },
 "nbformat": 4,
 "nbformat_minor": 5
}
